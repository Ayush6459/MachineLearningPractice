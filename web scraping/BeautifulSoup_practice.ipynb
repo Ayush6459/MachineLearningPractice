{
 "cells": [
  {
   "cell_type": "code",
   "execution_count": 2,
   "metadata": {},
   "outputs": [],
   "source": [
    "from bs4 import BeautifulSoup\n",
    "import requests  as req"
   ]
  },
  {
   "cell_type": "code",
   "execution_count": 3,
   "metadata": {},
   "outputs": [],
   "source": [
    "url=req.get(\"https://www.analyticsvidhya.com/blog/\").text"
   ]
  },
  {
   "cell_type": "code",
   "execution_count": 4,
   "metadata": {},
   "outputs": [],
   "source": [
    "soup=BeautifulSoup(url,'lxml')"
   ]
  },
  {
   "cell_type": "code",
   "execution_count": 46,
   "metadata": {},
   "outputs": [
    {
     "name": "stdout",
     "output_type": "stream",
     "text": [
      "https://www.analyticsvidhya.com/blog/2017/09/common-machine-learning-algorithms/\n",
      "Commonly used Machine Learning Algorithms (with Python and R Codes)\n",
      "\n",
      "https://www.analyticsvidhya.com/blog/2016/01/complete-tutorial-learn-data-science-python-scratch-2/\n",
      "A Complete Python Tutorial to Learn Data Science from Scratch\n",
      "\n",
      "https://www.analyticsvidhya.com/blog/2015/08/comprehensive-guide-regression/\n",
      "7 Regression Techniques you should know!\n",
      "\n",
      "https://www.analyticsvidhya.com/blog/2018/05/24-ultimate-data-science-projects-to-boost-your-knowledge-and-skills/\n",
      "24 Ultimate Data Science (Machine Learning) Projects To Boost Your Knowledge and Skills (& can be accessed freely)\n",
      "\n",
      "https://www.analyticsvidhya.com/blog/2020/03/support-vector-regression-tutorial-for-machine-learning/\n",
      "Support Vector Regression Tutorial for Machine Learning\n",
      "\n",
      "https://www.analyticsvidhya.com/blog/2020/03/6-python-libraries-interpret-machine-learning-models/\n",
      "6 Python Libraries to Interpret Machine Learning Models and Build Trust\n",
      "\n",
      "https://www.analyticsvidhya.com/blog/2020/03/polynomial-regression-python/\n",
      "Introduction to Polynomial Regression (with Python Implementation)\n",
      "\n",
      "https://www.analyticsvidhya.com/blog/2020/03/decision-tree-weka-no-coding/\n",
      "Build a Decision Tree in Minutes using Weka (No Coding Required!)\n",
      "\n",
      "https://www.analyticsvidhya.com/blog/2020/03/tensorflow-2-tutorial-deep-learning/\n",
      "TensorFlow 2.0 Tutorial for Deep Learning\n",
      "\n",
      "https://www.analyticsvidhya.com/blog/2020/03/6-pretrained-models-text-classification/\n",
      "Top 6 Open Source Pretrained Models for Text Classification you should use\n",
      "\n",
      "https://www.analyticsvidhya.com/blog/2020/03/highlights-tensorflow-dev-summit-2020/\n",
      "Top Highlights from TensorFlow Dev Summit 2020!\n",
      "\n",
      "https://www.analyticsvidhya.com/blog/2020/03/deep-learning-5-things-to-know/\n",
      "Getting into Deep Learning? Here are 5 Things you Should Absolutely Know\n",
      "\n",
      "https://www.analyticsvidhya.com/blog/2019/09/all-you-need-to-know-about-tensorflow-google-paige-bailey/\n",
      "DataHack Radio: All you Need to Know about TensorFlow with Google’s Paige Bailey\n",
      "\n",
      "https://www.analyticsvidhya.com/blog/2019/07/exploring-designing-chatbots-rasa-justina-petraityte/\n",
      "DataHack Radio #24: Exploring and Designing Chatbots with RASA’s Justina Petraitytė\n",
      "\n",
      "https://www.analyticsvidhya.com/blog/2019/06/datahack-radio-ines-montani-matthew-honnibal-brains-behind-spacy/\n",
      "DataHack Radio #23: Ines Montani and Matthew Honnibal – The Brains behind spaCy\n",
      "\n",
      "https://www.analyticsvidhya.com/blog/2019/04/datahack-radio-exploring-computer-vision-data-engineering-podcast-dat-tran/\n",
      "DataHack Radio #22: Exploring Computer Vision and Data Engineering with Dat Tran\n",
      "\n"
     ]
    }
   ],
   "source": [
    "for link in soup.find_all('h3',class_='entry-title short-bottom'):\n",
    "    print(link.a['href'])\n",
    "    print(link.a['title'])\n",
    "    \n",
    "    print()"
   ]
  },
  {
   "cell_type": "code",
   "execution_count": null,
   "metadata": {},
   "outputs": [],
   "source": []
  }
 ],
 "metadata": {
  "kernelspec": {
   "display_name": "Python 3.7.6 64-bit ('base': conda)",
   "language": "python",
   "name": "python37664bitbaseconda96d6f791f7a948bea67cd3c890e8b7fb"
  },
  "language_info": {
   "codemirror_mode": {
    "name": "ipython",
    "version": 3
   },
   "file_extension": ".py",
   "mimetype": "text/x-python",
   "name": "python",
   "nbconvert_exporter": "python",
   "pygments_lexer": "ipython3",
   "version": "3.7.6"
  }
 },
 "nbformat": 4,
 "nbformat_minor": 4
}
